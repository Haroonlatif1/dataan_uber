{
 "cells": [
  {
   "cell_type": "code",
   "execution_count": 1,
   "id": "ed446670-573c-4a34-96c5-948b8ee24357",
   "metadata": {},
   "outputs": [],
   "source": [
    "import numpy as np\n",
    "import pandas as pd\n",
    "import matplotlib.pyplot as plt"
   ]
  },
  {
   "cell_type": "code",
   "execution_count": 75,
   "id": "3d11b497-b45c-4c30-9322-9874fdc1e1b6",
   "metadata": {},
   "outputs": [],
   "source": [
    "df=pd.read_csv(\"UberDataset2.csv\")"
   ]
  },
  {
   "cell_type": "code",
   "execution_count": 6,
   "id": "d9a4a939-99ca-4493-9a6f-2389ab2e6d11",
   "metadata": {},
   "outputs": [
    {
     "data": {
      "text/html": [
       "<div>\n",
       "<style scoped>\n",
       "    .dataframe tbody tr th:only-of-type {\n",
       "        vertical-align: middle;\n",
       "    }\n",
       "\n",
       "    .dataframe tbody tr th {\n",
       "        vertical-align: top;\n",
       "    }\n",
       "\n",
       "    .dataframe thead th {\n",
       "        text-align: right;\n",
       "    }\n",
       "</style>\n",
       "<table border=\"1\" class=\"dataframe\">\n",
       "  <thead>\n",
       "    <tr style=\"text-align: right;\">\n",
       "      <th></th>\n",
       "      <th>START_DATE</th>\n",
       "      <th>END_DATE</th>\n",
       "      <th>CATEGORY</th>\n",
       "      <th>START</th>\n",
       "      <th>STOP</th>\n",
       "      <th>MILES</th>\n",
       "      <th>PURPOSE</th>\n",
       "    </tr>\n",
       "  </thead>\n",
       "  <tbody>\n",
       "    <tr>\n",
       "      <th>0</th>\n",
       "      <td>1/1/2016 21:11</td>\n",
       "      <td>1/1/2016 21:17</td>\n",
       "      <td>Business</td>\n",
       "      <td>Fort Pierce</td>\n",
       "      <td>Fort Pierce</td>\n",
       "      <td>5.1</td>\n",
       "      <td>Meal/Entertain</td>\n",
       "    </tr>\n",
       "    <tr>\n",
       "      <th>1</th>\n",
       "      <td>1/2/2016 20:25</td>\n",
       "      <td>1/2/2016 20:38</td>\n",
       "      <td>Business</td>\n",
       "      <td>Fort Pierce</td>\n",
       "      <td>Fort Pierce</td>\n",
       "      <td>5.1</td>\n",
       "      <td>Errand/Supplies</td>\n",
       "    </tr>\n",
       "    <tr>\n",
       "      <th>2</th>\n",
       "      <td>1/5/2016 17:31</td>\n",
       "      <td>1/5/2016 17:45</td>\n",
       "      <td>Business</td>\n",
       "      <td>Fort Pierce</td>\n",
       "      <td>Fort Pierce</td>\n",
       "      <td>5.1</td>\n",
       "      <td>Meeting</td>\n",
       "    </tr>\n",
       "    <tr>\n",
       "      <th>3</th>\n",
       "      <td>1/6/2016 14:42</td>\n",
       "      <td>1/6/2016 15:49</td>\n",
       "      <td>Business</td>\n",
       "      <td>Fort Pierce</td>\n",
       "      <td>West Palm Beach</td>\n",
       "      <td>5.1</td>\n",
       "      <td>Customer Visit</td>\n",
       "    </tr>\n",
       "    <tr>\n",
       "      <th>4</th>\n",
       "      <td>1/6/2016 17:15</td>\n",
       "      <td>1/6/2016 17:19</td>\n",
       "      <td>Business</td>\n",
       "      <td>West Palm Beach</td>\n",
       "      <td>West Palm Beach</td>\n",
       "      <td>5.1</td>\n",
       "      <td>Meal/Entertain</td>\n",
       "    </tr>\n",
       "  </tbody>\n",
       "</table>\n",
       "</div>"
      ],
      "text/plain": [
       "       START_DATE        END_DATE  CATEGORY            START             STOP  \\\n",
       "0  1/1/2016 21:11  1/1/2016 21:17  Business      Fort Pierce      Fort Pierce   \n",
       "1  1/2/2016 20:25  1/2/2016 20:38  Business      Fort Pierce      Fort Pierce   \n",
       "2  1/5/2016 17:31  1/5/2016 17:45  Business      Fort Pierce      Fort Pierce   \n",
       "3  1/6/2016 14:42  1/6/2016 15:49  Business      Fort Pierce  West Palm Beach   \n",
       "4  1/6/2016 17:15  1/6/2016 17:19  Business  West Palm Beach  West Palm Beach   \n",
       "\n",
       "   MILES          PURPOSE  \n",
       "0    5.1   Meal/Entertain  \n",
       "1    5.1  Errand/Supplies  \n",
       "2    5.1          Meeting  \n",
       "3    5.1   Customer Visit  \n",
       "4    5.1   Meal/Entertain  "
      ]
     },
     "execution_count": 6,
     "metadata": {},
     "output_type": "execute_result"
    }
   ],
   "source": [
    "df.head(5)"
   ]
  },
  {
   "cell_type": "code",
   "execution_count": 4,
   "id": "b58eb535-5d9d-4f02-aee8-ebfd1053da45",
   "metadata": {},
   "outputs": [
    {
     "data": {
      "text/plain": [
       "<bound method DataFrame.isnull of            START_DATE          END_DATE  CATEGORY            START  \\\n",
       "0    01-01-2016 21:11  01-01-2016 21:17  Business      Fort Pierce   \n",
       "1    01-02-2016 20:25  01-02-2016 20:38  Business      Fort Pierce   \n",
       "2    01-05-2016 17:31  01-05-2016 17:45  Business      Fort Pierce   \n",
       "3    01-06-2016 14:42  01-06-2016 15:49  Business      Fort Pierce   \n",
       "4    01-06-2016 17:15  01-06-2016 17:19  Business  West Palm Beach   \n",
       "..                ...               ...       ...              ...   \n",
       "567  12/30/2016 16:45  12/30/2016 17:08  Business          Karachi   \n",
       "568  12/30/2016 23:06  12/30/2016 23:10  Business          Karachi   \n",
       "569   12/31/2016 1:07   12/31/2016 1:14  Business          Karachi   \n",
       "570  12/31/2016 21:32  12/31/2016 21:50  Business       Katunayake   \n",
       "571  12/31/2016 22:08  12/31/2016 23:51  Business          Gampaha   \n",
       "\n",
       "                STOP  MILES          PURPOSE  \n",
       "0        Fort Pierce    5.1   Meal/Entertain  \n",
       "1        Fort Pierce    4.8  Errand/Supplies  \n",
       "2        Fort Pierce    4.7          Meeting  \n",
       "3    West Palm Beach   63.7   Customer Visit  \n",
       "4    West Palm Beach    4.3   Meal/Entertain  \n",
       "..               ...    ...              ...  \n",
       "567          Karachi    4.6          Meeting  \n",
       "568          Karachi    0.8   Customer Visit  \n",
       "569          Karachi    0.7          Meeting  \n",
       "570          Gampaha    6.4   Temporary Site  \n",
       "571        Ilukwatta   48.2   Temporary Site  \n",
       "\n",
       "[572 rows x 7 columns]>"
      ]
     },
     "execution_count": 4,
     "metadata": {},
     "output_type": "execute_result"
    }
   ],
   "source": [
    "df.isnull"
   ]
  },
  {
   "cell_type": "code",
   "execution_count": 86,
   "id": "0e1b6b01-9ce4-47a5-a391-50cf1281f976",
   "metadata": {},
   "outputs": [
    {
     "data": {
      "text/plain": [
       "START_DATE    0\n",
       "END_DATE      0\n",
       "CATEGORY      0\n",
       "START         0\n",
       "STOP          0\n",
       "MILES         0\n",
       "PURPOSE       0\n",
       "dtype: int64"
      ]
     },
     "execution_count": 86,
     "metadata": {},
     "output_type": "execute_result"
    }
   ],
   "source": [
    "df.isnull().sum()"
   ]
  },
  {
   "cell_type": "code",
   "execution_count": 67,
   "id": "ed81debf-662a-476f-92c8-944ae9952244",
   "metadata": {},
   "outputs": [],
   "source": [
    "df=df.dropna(axis=1)"
   ]
  },
  {
   "cell_type": "code",
   "execution_count": 87,
   "id": "ad14f070-098f-45d6-809f-9d1cc71f86dd",
   "metadata": {},
   "outputs": [
    {
     "data": {
      "text/html": [
       "<div>\n",
       "<style scoped>\n",
       "    .dataframe tbody tr th:only-of-type {\n",
       "        vertical-align: middle;\n",
       "    }\n",
       "\n",
       "    .dataframe tbody tr th {\n",
       "        vertical-align: top;\n",
       "    }\n",
       "\n",
       "    .dataframe thead th {\n",
       "        text-align: right;\n",
       "    }\n",
       "</style>\n",
       "<table border=\"1\" class=\"dataframe\">\n",
       "  <thead>\n",
       "    <tr style=\"text-align: right;\">\n",
       "      <th></th>\n",
       "      <th>START_DATE</th>\n",
       "      <th>END_DATE</th>\n",
       "      <th>CATEGORY</th>\n",
       "      <th>START</th>\n",
       "      <th>STOP</th>\n",
       "      <th>MILES</th>\n",
       "      <th>PURPOSE</th>\n",
       "    </tr>\n",
       "  </thead>\n",
       "  <tbody>\n",
       "    <tr>\n",
       "      <th>0</th>\n",
       "      <td>1/1/2016 21:11</td>\n",
       "      <td>1/1/2016 21:17</td>\n",
       "      <td>Business</td>\n",
       "      <td>Fort Pierce</td>\n",
       "      <td>Fort Pierce</td>\n",
       "      <td>5.0</td>\n",
       "      <td>Meal/Entertain</td>\n",
       "    </tr>\n",
       "    <tr>\n",
       "      <th>1</th>\n",
       "      <td>1/2/2016 20:25</td>\n",
       "      <td>1/2/2016 20:38</td>\n",
       "      <td>Business</td>\n",
       "      <td>Fort Pierce</td>\n",
       "      <td>Fort Pierce</td>\n",
       "      <td>4.8</td>\n",
       "      <td>Errand/Supplies</td>\n",
       "    </tr>\n",
       "    <tr>\n",
       "      <th>2</th>\n",
       "      <td>1/5/2016 17:31</td>\n",
       "      <td>1/5/2016 17:45</td>\n",
       "      <td>Business</td>\n",
       "      <td>Fort Pierce</td>\n",
       "      <td>Fort Pierce</td>\n",
       "      <td>4.7</td>\n",
       "      <td>Meeting</td>\n",
       "    </tr>\n",
       "    <tr>\n",
       "      <th>3</th>\n",
       "      <td>1/6/2016 14:42</td>\n",
       "      <td>1/6/2016 15:49</td>\n",
       "      <td>Business</td>\n",
       "      <td>Fort Pierce</td>\n",
       "      <td>West Palm Beach</td>\n",
       "      <td>63.7</td>\n",
       "      <td>Customer Visit</td>\n",
       "    </tr>\n",
       "    <tr>\n",
       "      <th>4</th>\n",
       "      <td>1/6/2016 17:15</td>\n",
       "      <td>1/6/2016 17:19</td>\n",
       "      <td>Business</td>\n",
       "      <td>West Palm Beach</td>\n",
       "      <td>West Palm Beach</td>\n",
       "      <td>4.3</td>\n",
       "      <td>Meal/Entertain</td>\n",
       "    </tr>\n",
       "    <tr>\n",
       "      <th>...</th>\n",
       "      <td>...</td>\n",
       "      <td>...</td>\n",
       "      <td>...</td>\n",
       "      <td>...</td>\n",
       "      <td>...</td>\n",
       "      <td>...</td>\n",
       "      <td>...</td>\n",
       "    </tr>\n",
       "    <tr>\n",
       "      <th>567</th>\n",
       "      <td>12/30/2016 16:45</td>\n",
       "      <td>12/30/2016 17:08</td>\n",
       "      <td>Business</td>\n",
       "      <td>Karachi</td>\n",
       "      <td>Karachi</td>\n",
       "      <td>3.1</td>\n",
       "      <td>Meeting</td>\n",
       "    </tr>\n",
       "    <tr>\n",
       "      <th>568</th>\n",
       "      <td>12/30/2016 23:06</td>\n",
       "      <td>12/30/2016 23:10</td>\n",
       "      <td>Business</td>\n",
       "      <td>Karachi</td>\n",
       "      <td>Karachi</td>\n",
       "      <td>3.2</td>\n",
       "      <td>Customer Visit</td>\n",
       "    </tr>\n",
       "    <tr>\n",
       "      <th>569</th>\n",
       "      <td>12/31/2016 1:07</td>\n",
       "      <td>12/31/2016 1:14</td>\n",
       "      <td>Business</td>\n",
       "      <td>Karachi</td>\n",
       "      <td>Karachi</td>\n",
       "      <td>6.0</td>\n",
       "      <td>Meeting</td>\n",
       "    </tr>\n",
       "    <tr>\n",
       "      <th>570</th>\n",
       "      <td>12/31/2016 21:32</td>\n",
       "      <td>12/31/2016 21:50</td>\n",
       "      <td>Business</td>\n",
       "      <td>Katunayake</td>\n",
       "      <td>Gampaha</td>\n",
       "      <td>5.8</td>\n",
       "      <td>Temporary Site</td>\n",
       "    </tr>\n",
       "    <tr>\n",
       "      <th>571</th>\n",
       "      <td>12/31/2016 22:08</td>\n",
       "      <td>12/31/2016 23:51</td>\n",
       "      <td>Business</td>\n",
       "      <td>Gampaha</td>\n",
       "      <td>Ilukwatta</td>\n",
       "      <td>6.3</td>\n",
       "      <td>Temporary Site</td>\n",
       "    </tr>\n",
       "  </tbody>\n",
       "</table>\n",
       "<p>572 rows × 7 columns</p>\n",
       "</div>"
      ],
      "text/plain": [
       "           START_DATE          END_DATE  CATEGORY            START  \\\n",
       "0      1/1/2016 21:11    1/1/2016 21:17  Business      Fort Pierce   \n",
       "1      1/2/2016 20:25    1/2/2016 20:38  Business      Fort Pierce   \n",
       "2      1/5/2016 17:31    1/5/2016 17:45  Business      Fort Pierce   \n",
       "3      1/6/2016 14:42    1/6/2016 15:49  Business      Fort Pierce   \n",
       "4      1/6/2016 17:15    1/6/2016 17:19  Business  West Palm Beach   \n",
       "..                ...               ...       ...              ...   \n",
       "567  12/30/2016 16:45  12/30/2016 17:08  Business          Karachi   \n",
       "568  12/30/2016 23:06  12/30/2016 23:10  Business          Karachi   \n",
       "569   12/31/2016 1:07   12/31/2016 1:14  Business          Karachi   \n",
       "570  12/31/2016 21:32  12/31/2016 21:50  Business       Katunayake   \n",
       "571  12/31/2016 22:08  12/31/2016 23:51  Business          Gampaha   \n",
       "\n",
       "                STOP  MILES          PURPOSE  \n",
       "0        Fort Pierce    5.0   Meal/Entertain  \n",
       "1        Fort Pierce    4.8  Errand/Supplies  \n",
       "2        Fort Pierce    4.7          Meeting  \n",
       "3    West Palm Beach   63.7   Customer Visit  \n",
       "4    West Palm Beach    4.3   Meal/Entertain  \n",
       "..               ...    ...              ...  \n",
       "567          Karachi    3.1          Meeting  \n",
       "568          Karachi    3.2   Customer Visit  \n",
       "569          Karachi    6.0          Meeting  \n",
       "570          Gampaha    5.8   Temporary Site  \n",
       "571        Ilukwatta    6.3   Temporary Site  \n",
       "\n",
       "[572 rows x 7 columns]"
      ]
     },
     "execution_count": 87,
     "metadata": {},
     "output_type": "execute_result"
    }
   ],
   "source": [
    "df"
   ]
  },
  {
   "cell_type": "code",
   "execution_count": 25,
   "id": "709db183-981d-4eb7-8a09-9005b11720cb",
   "metadata": {},
   "outputs": [
    {
     "data": {
      "text/html": [
       "<div>\n",
       "<style scoped>\n",
       "    .dataframe tbody tr th:only-of-type {\n",
       "        vertical-align: middle;\n",
       "    }\n",
       "\n",
       "    .dataframe tbody tr th {\n",
       "        vertical-align: top;\n",
       "    }\n",
       "\n",
       "    .dataframe thead th {\n",
       "        text-align: right;\n",
       "    }\n",
       "</style>\n",
       "<table border=\"1\" class=\"dataframe\">\n",
       "  <thead>\n",
       "    <tr style=\"text-align: right;\">\n",
       "      <th></th>\n",
       "      <th>START_DATE</th>\n",
       "      <th>MILES</th>\n",
       "    </tr>\n",
       "  </thead>\n",
       "  <tbody>\n",
       "    <tr>\n",
       "      <th>0</th>\n",
       "      <td>01-01-2016 21:11</td>\n",
       "      <td>5.1</td>\n",
       "    </tr>\n",
       "    <tr>\n",
       "      <th>1</th>\n",
       "      <td>01-02-2016 01:25</td>\n",
       "      <td>5.0</td>\n",
       "    </tr>\n",
       "    <tr>\n",
       "      <th>2</th>\n",
       "      <td>01-02-2016 20:25</td>\n",
       "      <td>4.8</td>\n",
       "    </tr>\n",
       "    <tr>\n",
       "      <th>3</th>\n",
       "      <td>01-05-2016 17:31</td>\n",
       "      <td>4.7</td>\n",
       "    </tr>\n",
       "    <tr>\n",
       "      <th>4</th>\n",
       "      <td>01-06-2016 14:42</td>\n",
       "      <td>63.7</td>\n",
       "    </tr>\n",
       "    <tr>\n",
       "      <th>5</th>\n",
       "      <td>01-06-2016 17:15</td>\n",
       "      <td>4.3</td>\n",
       "    </tr>\n",
       "    <tr>\n",
       "      <th>6</th>\n",
       "      <td>01-06-2016 17:30</td>\n",
       "      <td>7.1</td>\n",
       "    </tr>\n",
       "  </tbody>\n",
       "</table>\n",
       "</div>"
      ],
      "text/plain": [
       "         START_DATE  MILES\n",
       "0  01-01-2016 21:11    5.1\n",
       "1  01-02-2016 01:25    5.0\n",
       "2  01-02-2016 20:25    4.8\n",
       "3  01-05-2016 17:31    4.7\n",
       "4  01-06-2016 14:42   63.7\n",
       "5  01-06-2016 17:15    4.3\n",
       "6  01-06-2016 17:30    7.1"
      ]
     },
     "execution_count": 25,
     "metadata": {},
     "output_type": "execute_result"
    }
   ],
   "source": [
    "unnull.head(7)"
   ]
  },
  {
   "cell_type": "code",
   "execution_count": null,
   "id": "e6e5a5a9-cfdb-4da6-9bc7-294fcf744968",
   "metadata": {},
   "outputs": [],
   "source": [
    "df"
   ]
  },
  {
   "cell_type": "code",
   "execution_count": null,
   "id": "000746f0-7a55-4691-bc65-eaa6d3fa0b30",
   "metadata": {},
   "outputs": [],
   "source": [
    "unnull=df.dropna()"
   ]
  },
  {
   "cell_type": "code",
   "execution_count": null,
   "id": "0fd559b4-5725-49af-bc58-a5f9dcb83905",
   "metadata": {},
   "outputs": [],
   "source": [
    "unnull"
   ]
  },
  {
   "cell_type": "code",
   "execution_count": null,
   "id": "5ba58151-5f09-4ebf-8e70-81cf0b621b30",
   "metadata": {},
   "outputs": [],
   "source": [
    "unnull.isnull().sum()"
   ]
  },
  {
   "cell_type": "code",
   "execution_count": null,
   "id": "1bf579e3-7001-4622-947d-ea9f2dbe1e08",
   "metadata": {},
   "outputs": [],
   "source": [
    "unnull.head(10)"
   ]
  },
  {
   "cell_type": "code",
   "execution_count": null,
   "id": "78b979af-c369-4e2c-895c-bf1d412de443",
   "metadata": {},
   "outputs": [],
   "source": [
    "unnulldf = unnull[unnull['STOP'] != 'Unknown Location']"
   ]
  },
  {
   "cell_type": "code",
   "execution_count": null,
   "id": "538404bd-c02e-4a42-8be1-d7fe19fff6e0",
   "metadata": {},
   "outputs": [],
   "source": [
    "unnulldf"
   ]
  },
  {
   "cell_type": "code",
   "execution_count": null,
   "id": "852cf63a-4517-4131-b348-6821a1acbd83",
   "metadata": {},
   "outputs": [],
   "source": [
    "unnulldf['STOP']=unnulldf['STOP'].replace({'Kar?chi':'Karachi'})"
   ]
  },
  {
   "cell_type": "code",
   "execution_count": null,
   "id": "26de0cff-4bf2-4022-8711-792bcb1384e0",
   "metadata": {},
   "outputs": [],
   "source": [
    "unnulldf"
   ]
  },
  {
   "cell_type": "code",
   "execution_count": null,
   "id": "f5a5dd3f-419f-4fd9-9312-fa55f9169554",
   "metadata": {},
   "outputs": [],
   "source": [
    "unnulldf"
   ]
  },
  {
   "cell_type": "code",
   "execution_count": null,
   "id": "8372c041-ee02-44ec-900a-bcf3cfb4c18d",
   "metadata": {},
   "outputs": [],
   "source": [
    "df"
   ]
  },
  {
   "cell_type": "code",
   "execution_count": null,
   "id": "74b36833-9ad0-4916-84c1-de0ec1384212",
   "metadata": {},
   "outputs": [],
   "source": [
    "unnull"
   ]
  },
  {
   "cell_type": "code",
   "execution_count": null,
   "id": "e4b2c00e-0fb5-49b8-abba-5b637856de93",
   "metadata": {},
   "outputs": [],
   "source": [
    "unnull = unnull[unnull['STOP'] != 'Unknown Location']"
   ]
  },
  {
   "cell_type": "code",
   "execution_count": null,
   "id": "3e56106e-7ae3-41e9-aa23-09b4fa654161",
   "metadata": {},
   "outputs": [],
   "source": [
    "unnull"
   ]
  },
  {
   "cell_type": "code",
   "execution_count": null,
   "id": "1ca79d75-b7a7-45d9-ad65-0328b91a9a69",
   "metadata": {},
   "outputs": [],
   "source": [
    "unnull.loc[:, 'STOP'] = unnull['STOP'].replace({'Kar?chi': 'Karachi'})"
   ]
  },
  {
   "cell_type": "code",
   "execution_count": null,
   "id": "14809c83-1b81-43c2-984c-e95d1af7ac6b",
   "metadata": {},
   "outputs": [],
   "source": [
    "unnull.loc[:, 'STOP'] = unnull['STOP'].replace({'Kar?chi': 'Karachi'})"
   ]
  },
  {
   "cell_type": "code",
   "execution_count": null,
   "id": "9b2e5b8f-ea85-4542-8f8f-0a97deda2022",
   "metadata": {},
   "outputs": [],
   "source": [
    "unnull"
   ]
  },
  {
   "cell_type": "code",
   "execution_count": null,
   "id": "c417621a-2914-44dc-9cbd-ae601b821f02",
   "metadata": {},
   "outputs": [],
   "source": [
    "unnull['START'].replace({'Kar?chi': 'Karachi'}, inplace=True)\n"
   ]
  },
  {
   "cell_type": "code",
   "execution_count": null,
   "id": "bfe29a69-4db0-4b4d-914d-cb4071b35bba",
   "metadata": {},
   "outputs": [],
   "source": [
    "unnull"
   ]
  },
  {
   "cell_type": "code",
   "execution_count": null,
   "id": "a1185522-8505-4e33-9e8d-e6d9d14eba96",
   "metadata": {},
   "outputs": [],
   "source": [
    "unnull.to_csv('UberDataset2.csv', index=False)"
   ]
  },
  {
   "cell_type": "code",
   "execution_count": null,
   "id": "4e2094b8-c869-4aae-bcc4-736e555d84a7",
   "metadata": {},
   "outputs": [],
   "source": [
    "unnull"
   ]
  },
  {
   "cell_type": "code",
   "execution_count": null,
   "id": "516b64fb-6cc8-4cc0-bb7b-730b0bb8afae",
   "metadata": {},
   "outputs": [],
   "source": [
    "unnull.head(60)"
   ]
  },
  {
   "cell_type": "code",
   "execution_count": null,
   "id": "32ca2931-bc4e-4040-8328-4d3cb03c68f9",
   "metadata": {},
   "outputs": [],
   "source": [
    "unnull = unnull[unnull['START'] != 'Unknown Location']"
   ]
  },
  {
   "cell_type": "code",
   "execution_count": null,
   "id": "c3bdd3b1-ebe0-4bf4-91ca-196653b767e1",
   "metadata": {},
   "outputs": [],
   "source": [
    "unnull"
   ]
  },
  {
   "cell_type": "code",
   "execution_count": null,
   "id": "2db43c8e-59f4-4b9a-b1a2-c3a37e0bccec",
   "metadata": {},
   "outputs": [],
   "source": [
    "unnull.isnull().sum()"
   ]
  },
  {
   "cell_type": "code",
   "execution_count": null,
   "id": "32c655c5-10b9-471f-a41d-59926740cfdf",
   "metadata": {},
   "outputs": [],
   "source": [
    "unnull.describe()"
   ]
  },
  {
   "cell_type": "code",
   "execution_count": null,
   "id": "44ce2804-65bf-4da9-8f05-5cba84597234",
   "metadata": {},
   "outputs": [],
   "source": [
    "unnull\n"
   ]
  },
  {
   "cell_type": "code",
   "execution_count": null,
   "id": "dc17e173-7fcb-485b-a71b-14caad57264f",
   "metadata": {},
   "outputs": [],
   "source": [
    "unnull"
   ]
  },
  {
   "cell_type": "code",
   "execution_count": null,
   "id": "5b77e7f6-b56e-45e8-8d7f-6972e9f21381",
   "metadata": {},
   "outputs": [],
   "source": [
    "unnull"
   ]
  },
  {
   "cell_type": "code",
   "execution_count": null,
   "id": "5c61ffa4-17e5-4729-9bbc-3fcfb1ebc791",
   "metadata": {},
   "outputs": [],
   "source": [
    "df"
   ]
  },
  {
   "cell_type": "code",
   "execution_count": null,
   "id": "f7455f98-c12f-4d9a-92c4-fbdd5f0049e5",
   "metadata": {},
   "outputs": [],
   "source": [
    "df.isnull().sum()"
   ]
  },
  {
   "cell_type": "code",
   "execution_count": null,
   "id": "99dc16ec-1829-43fb-bdbf-5554b9877c2c",
   "metadata": {},
   "outputs": [],
   "source": [
    "unnull=df.copy()"
   ]
  },
  {
   "cell_type": "code",
   "execution_count": null,
   "id": "ac7397a6-37d4-4581-901e-4f37bbd7761f",
   "metadata": {},
   "outputs": [],
   "source": [
    "unnull"
   ]
  },
  {
   "cell_type": "code",
   "execution_count": null,
   "id": "1fa4a8ec-3782-436c-9581-d51705c438c7",
   "metadata": {},
   "outputs": [],
   "source": [
    "unnull.head(10)"
   ]
  },
  {
   "cell_type": "code",
   "execution_count": null,
   "id": "7784eeeb-1a42-4a50-a6c3-69551bc6813e",
   "metadata": {},
   "outputs": [],
   "source": [
    "unnull.tail(7)"
   ]
  },
  {
   "cell_type": "code",
   "execution_count": null,
   "id": "5ac4ab29-22a9-43c7-90dc-5634a7d939ec",
   "metadata": {},
   "outputs": [],
   "source": [
    "unnull.stats()"
   ]
  },
  {
   "cell_type": "code",
   "execution_count": null,
   "id": "7eee0674-e6ac-4290-b1e9-2f8ead712eaf",
   "metadata": {},
   "outputs": [],
   "source": [
    "unnull"
   ]
  },
  {
   "cell_type": "code",
   "execution_count": null,
   "id": "66acf977-0120-41eb-8661-3706b5f07e27",
   "metadata": {},
   "outputs": [],
   "source": [
    "df\n"
   ]
  },
  {
   "cell_type": "code",
   "execution_count": 31,
   "id": "3ed5f139-8b1a-4ae5-b4f6-baf53dd10d00",
   "metadata": {},
   "outputs": [
    {
     "name": "stdout",
     "output_type": "stream",
     "text": [
      "Original Time Series:\n",
      "            values\n",
      "2022-01-01      44\n",
      "2022-01-02      47\n",
      "2022-01-03      64\n",
      "2022-01-04      67\n",
      "2022-01-05      67\n",
      "\n",
      "Resampled Time Series (Monthly Mean):\n",
      "               values\n",
      "2022-01-31  56.838710\n",
      "2022-02-28  40.928571\n",
      "2022-03-31  45.064516\n",
      "2022-04-30  53.633333\n",
      "2022-05-31  46.870968\n"
     ]
    }
   ],
   "source": [
    "np.random.seed(0)\n",
    "dates = pd.date_range(start='2022-01-01', end='2022-12-31', freq='D')\n",
    "data = {'values': np.random.randint(0, 100, size=len(dates))}\n",
    "ts = pd.DataFrame(data, index=dates)\n",
    "\n",
    "# Resampling to monthly frequency, taking the mean\n",
    "monthly_mean = ts.resample('M').mean()\n",
    "\n",
    "print(\"Original Time Series:\")\n",
    "print(ts.head())\n",
    "print(\"\\nResampled Time Series (Monthly Mean):\")\n",
    "print(monthly_mean.head())"
   ]
  },
  {
   "cell_type": "code",
   "execution_count": 1,
   "id": "c1c46229-0d8b-42a1-ac20-ac47c4064b4f",
   "metadata": {},
   "outputs": [
    {
     "ename": "NameError",
     "evalue": "name 'df' is not defined",
     "output_type": "error",
     "traceback": [
      "\u001b[1;31m---------------------------------------------------------------------------\u001b[0m",
      "\u001b[1;31mNameError\u001b[0m                                 Traceback (most recent call last)",
      "Cell \u001b[1;32mIn[1], line 1\u001b[0m\n\u001b[1;32m----> 1\u001b[0m \u001b[43mdf\u001b[49m\n",
      "\u001b[1;31mNameError\u001b[0m: name 'df' is not defined"
     ]
    }
   ],
   "source": [
    "df"
   ]
  },
  {
   "cell_type": "code",
   "execution_count": 65,
   "id": "5d6f22e2-b2ae-4697-b062-66c8f15e8fe1",
   "metadata": {},
   "outputs": [
    {
     "data": {
      "text/plain": [
       "START_DATE    16\n",
       "END_DATE      16\n",
       "CATEGORY      16\n",
       "START         16\n",
       "STOP          16\n",
       "MILES          0\n",
       "PURPOSE       16\n",
       "dtype: int64"
      ]
     },
     "execution_count": 65,
     "metadata": {},
     "output_type": "execute_result"
    }
   ],
   "source": [
    "df.isnull().sum()"
   ]
  },
  {
   "cell_type": "code",
   "execution_count": 88,
   "id": "e5de1aac-c237-4baf-9ab5-2f53343c4fb6",
   "metadata": {},
   "outputs": [],
   "source": [
    "most_startstop_miles = df.groupby(['START', 'STOP'])['MILES'].sum()\n",
    "\n"
   ]
  },
  {
   "cell_type": "code",
   "execution_count": 90,
   "id": "e55ac266-4fb6-48e1-b269-3c6b33e7aa27",
   "metadata": {},
   "outputs": [
    {
     "data": {
      "text/plain": [
       "START          STOP              \n",
       "Apex           Cary                  66.3\n",
       "               Holly Springs          1.6\n",
       "Arabi          Metairie               3.9\n",
       "Asheville      Topton                 1.9\n",
       "Austin         Katy                   5.8\n",
       "                                     ... \n",
       "Whitebridge    Wayne Ridge           47.9\n",
       "               Westpark Place        48.0\n",
       "               Whitebridge            4.7\n",
       "               Williamsburg Manor     3.9\n",
       "Winston Salem  Asheville              1.7\n",
       "Name: MILES, Length: 222, dtype: float64"
      ]
     },
     "execution_count": 90,
     "metadata": {},
     "output_type": "execute_result"
    }
   ],
   "source": [
    "most_startstop_miles"
   ]
  },
  {
   "cell_type": "code",
   "execution_count": 1,
   "id": "c85e3da5-067e-44e0-80c2-ffa7e8b99897",
   "metadata": {},
   "outputs": [
    {
     "ename": "NameError",
     "evalue": "name 'Morestart' is not defined",
     "output_type": "error",
     "traceback": [
      "\u001b[1;31m---------------------------------------------------------------------------\u001b[0m",
      "\u001b[1;31mNameError\u001b[0m                                 Traceback (most recent call last)",
      "Cell \u001b[1;32mIn[1], line 1\u001b[0m\n\u001b[1;32m----> 1\u001b[0m \u001b[43mMorestart\u001b[49m\n",
      "\u001b[1;31mNameError\u001b[0m: name 'Morestart' is not defined"
     ]
    }
   ],
   "source": [
    "Morestart"
   ]
  },
  {
   "cell_type": "code",
   "execution_count": 11,
   "id": "701b99a8-25dc-4695-a04f-395ee9e23c64",
   "metadata": {},
   "outputs": [
    {
     "data": {
      "image/png": "[encoded data removed]",
      "text/plain": [
       "<Figure size 1000x600 with 1 Axes>"
      ]
     },
     "metadata": {},
     "output_type": "display_data"
    }
   ],
   "source": [
    "plt.figure(figsize=(10, 6))  # Set the figure size\n",
    "\n",
    "# Plotting the bar chart\n",
    "milesbypurpose.plot(kind='bar', color='skyblue')\n",
    "\n",
    "# Adding labels and title\n",
    "plt.xlabel('Purpose')\n",
    "plt.ylabel('Total Miles')\n",
    "plt.title('Total Miles Traveled by Purpose')\n",
    "\n",
    "# Rotating x-axis labels for better readability\n",
    "plt.xticks(rotation=45, ha='right')\n",
    "\n",
    "# Displaying the plot\n",
    "plt.tight_layout()"
   ]
  },
  {
   "cell_type": "code",
   "execution_count": 38,
   "id": "f78ff0c5-04e5-4fb9-b64f-2a0f66dd08a9",
   "metadata": {},
   "outputs": [
    {
     "ename": "TypeError",
     "evalue": "Series.sort_values() got an unexpected keyword argument 'by'",
     "output_type": "error",
     "traceback": [
      "\u001b[1;31m---------------------------------------------------------------------------\u001b[0m",
      "\u001b[1;31mTypeError\u001b[0m                                 Traceback (most recent call last)",
      "Cell \u001b[1;32mIn[38], line 2\u001b[0m\n\u001b[0;32m      1\u001b[0m \u001b[38;5;66;03m# Sort the most_startstop_miles DataFrame by total miles in descending order\u001b[39;00m\n\u001b[1;32m----> 2\u001b[0m sorted_routes \u001b[38;5;241m=\u001b[39m \u001b[43mmost_startstop_miles\u001b[49m\u001b[38;5;241;43m.\u001b[39;49m\u001b[43msort_values\u001b[49m\u001b[43m(\u001b[49m\u001b[43mby\u001b[49m\u001b[38;5;241;43m=\u001b[39;49m\u001b[38;5;124;43m'\u001b[39;49m\u001b[38;5;124;43mMILES\u001b[39;49m\u001b[38;5;124;43m'\u001b[39;49m\u001b[43m,\u001b[49m\u001b[43m \u001b[49m\u001b[43mascending\u001b[49m\u001b[38;5;241;43m=\u001b[39;49m\u001b[38;5;28;43;01mFalse\u001b[39;49;00m\u001b[43m)\u001b[49m\u001b[38;5;241m.\u001b[39mround(\u001b[38;5;241m4\u001b[39m)\n\u001b[0;32m      4\u001b[0m \u001b[38;5;66;03m# Select the top 5 routes with the most miles covered\u001b[39;00m\n\u001b[0;32m      5\u001b[0m top_5_routes \u001b[38;5;241m=\u001b[39m sorted_routes\u001b[38;5;241m.\u001b[39mhead(\u001b[38;5;241m5\u001b[39m)\n",
      "\u001b[1;31mTypeError\u001b[0m: Series.sort_values() got an unexpected keyword argument 'by'"
     ]
    }
   ],
   "source": [
    "import matplotlib.pyplot as plt\n",
    "\n",
    "# Custom color palette for the bars\n",
    "colors = ['#0d4f8b', '#a63603', '#00441b', '#860303', '#3b3173', '#403c33', '#891851', '#494949', '#6c5b1c', '#0e4f54']\n",
    "# \n",
    "# Plotting the total miles for each purpose\n",
    "plt.figure(figsize=(14, 7))  # Set the figure size\n",
    "plt.bar(milesbypurpose.index, milesbypurpose.values, color=colors)\n",
    "\n",
    "# Adding labels and title\n",
    "plt.xlabel('Purpose', fontsize=12)\n",
    "plt.ylabel('Total Miles', fontsize=12)\n",
    "plt.title('Total Miles Traveled by Purpose', fontsize=14, fontweight='bold')\n",
    "\n",
    "# Rotating x-axis labels for better readability\n",
    "plt.xticks(rotation=45, ha='right', fontsize=12)\n",
    "\n",
    "# Adding grid lines\n",
    "plt.grid(axis='y', linestyle='-', alpha=0.5)\n",
    "\n",
    "# Adding a background color\n",
    "plt.gca().set_facecolor('#f1f1f1')\n",
    "\n",
    "# Adding data labels on top of each bar\n",
    "for i, v in enumerate(milesbypurpose.values):\n",
    "    plt.text(i, v + 10, str(v), ha='center', va='bottom', fontsize=10)\n",
    "\n",
    "# Removing top and right spines\n",
    "plt.gca().spines['top'].set_visible(False)\n",
    "plt.gca().spines['right'].set_visible(False)\n",
    "plt.ylim(top=max(milesbypurpose.values) + 200) \n",
    "\n",
    "# Adjusting layout\n",
    "plt.tight_layout()\n",
    "plt.savefig('total_miles_by_purpose.png', dpi=350)\n",
    "\n",
    "# Show plot\n",
    "plt.show()"
   ]
  },
  {
   "cell_type": "code",
   "execution_count": 91,
   "id": "13ccabd7-0cb4-42fd-af9e-5a336aaf3d7c",
   "metadata": {},
   "outputs": [
    {
     "name": "stderr",
     "output_type": "stream",
     "text": [
      "C:\\Users\\Dell\\AppData\\Local\\Temp\\ipykernel_7652\\3758206551.py:14: MatplotlibDeprecationWarning: The get_cmap function was deprecated in Matplotlib 3.7 and will be removed two minor releases later. Use ``matplotlib.colormaps[name]`` or ``matplotlib.colormaps.get_cmap(obj)`` instead.\n",
      "  bars = plt.bar(np.arange(len(top_5_routes)), top_5_routes.values, width=bar_width, color= plt.cm.get_cmap('Greens')(np.linspace(0.5, 1, 7)[::-1]))\n"
     ]
    },
    {
     "data": {
      "image/png": "[encoded data removed]",
      "text/plain": [
       "<Figure size 1500x1100 with 1 Axes>"
      ]
     },
     "metadata": {},
     "output_type": "display_data"
    }
   ],
   "source": [
    "# Sort the most_startstop_miles Series in descending order\n",
    "sorted_routes = most_startstop_miles.sort_values(ascending=False).round(4)\n",
    "\n",
    "# Select the top 5 routes with the most miles covered\n",
    "top_5_routes = sorted_routes.head(7)\n",
    "\n",
    "# Plotting\n",
    "plt.figure(figsize=(15, 11), facecolor='#f1f1f1')  # Set the figure size for better visibility\n",
    "\n",
    "# Adjusting bar width and spacing\n",
    "bar_width = 0.4  # Adjust the width of the bars as desired\n",
    "bar_spacing = 0.3  # Adjust the spacing between bars as desired\n",
    "\n",
    "bars = plt.bar(np.arange(len(top_5_routes)), top_5_routes.values, width=bar_width, color= plt.cm.get_cmap('Greens')(np.linspace(0.5, 1, 7)[::-1]))\n",
    "\n",
    "# Adding a title and labels with custom font settings\n",
    "plt.title('Top 5 Routes with Most Miles Covered', fontsize=18, fontweight='bold', fontfamily=\"Arial\", color='green')\n",
    "plt.xlabel('Start - Stop', fontsize=14, fontweight='bold')\n",
    "plt.ylabel('Total Miles', fontsize=14, fontweight='bold')\n",
    "\n",
    "# Customizing the tick parameters\n",
    "plt.xticks(np.arange(len(top_5_routes)), top_5_routes.index, rotation=45, fontsize=12)\n",
    "plt.yticks(fontsize=12)\n",
    "\n",
    "# Adding text labels inside the bars\n",
    "for i, v in enumerate(top_5_routes.values):\n",
    "    plt.text(i, v + 10, str(v), ha='center', va='bottom', fontsize=13, fontfamily=\"times new roman\")\n",
    "\n",
    "# Highlighting the maximum value\n",
    "max_miles = top_5_routes.max()\n",
    "plt.ylim(top=max_miles + 50) \n",
    "\n",
    "# Save the plot\n",
    "plt.tight_layout()\n",
    "plt.savefig(\"top5mostmiles_route.png\", dpi=350)\n",
    "\n",
    "# Show the plot\n",
    "plt.show()\n"
   ]
  },
  {
   "cell_type": "code",
   "execution_count": 59,
   "id": "e114048b-57ef-4839-8929-96a9c64f6ed2",
   "metadata": {},
   "outputs": [
    {
     "data": {
      "text/html": [
       "<div>\n",
       "<style scoped>\n",
       "    .dataframe tbody tr th:only-of-type {\n",
       "        vertical-align: middle;\n",
       "    }\n",
       "\n",
       "    .dataframe tbody tr th {\n",
       "        vertical-align: top;\n",
       "    }\n",
       "\n",
       "    .dataframe thead th {\n",
       "        text-align: right;\n",
       "    }\n",
       "</style>\n",
       "<table border=\"1\" class=\"dataframe\">\n",
       "  <thead>\n",
       "    <tr style=\"text-align: right;\">\n",
       "      <th></th>\n",
       "      <th>START_DATE</th>\n",
       "      <th>END_DATE</th>\n",
       "      <th>CATEGORY</th>\n",
       "      <th>START</th>\n",
       "      <th>STOP</th>\n",
       "      <th>MILES</th>\n",
       "      <th>PURPOSE</th>\n",
       "    </tr>\n",
       "  </thead>\n",
       "  <tbody>\n",
       "    <tr>\n",
       "      <th>0</th>\n",
       "      <td>1/1/2016 21:11</td>\n",
       "      <td>1/1/2016 21:17</td>\n",
       "      <td>Business</td>\n",
       "      <td>Fort Pierce</td>\n",
       "      <td>Fort Pierce</td>\n",
       "      <td>5.1</td>\n",
       "      <td>Meal/Entertain</td>\n",
       "    </tr>\n",
       "    <tr>\n",
       "      <th>1</th>\n",
       "      <td>1/2/2016 20:25</td>\n",
       "      <td>1/2/2016 20:38</td>\n",
       "      <td>Business</td>\n",
       "      <td>Fort Pierce</td>\n",
       "      <td>Fort Pierce</td>\n",
       "      <td>5.1</td>\n",
       "      <td>Errand/Supplies</td>\n",
       "    </tr>\n",
       "    <tr>\n",
       "      <th>2</th>\n",
       "      <td>1/5/2016 17:31</td>\n",
       "      <td>1/5/2016 17:45</td>\n",
       "      <td>Business</td>\n",
       "      <td>Fort Pierce</td>\n",
       "      <td>Fort Pierce</td>\n",
       "      <td>5.1</td>\n",
       "      <td>Meeting</td>\n",
       "    </tr>\n",
       "    <tr>\n",
       "      <th>3</th>\n",
       "      <td>1/6/2016 14:42</td>\n",
       "      <td>1/6/2016 15:49</td>\n",
       "      <td>Business</td>\n",
       "      <td>Fort Pierce</td>\n",
       "      <td>West Palm Beach</td>\n",
       "      <td>5.1</td>\n",
       "      <td>Customer Visit</td>\n",
       "    </tr>\n",
       "    <tr>\n",
       "      <th>4</th>\n",
       "      <td>1/6/2016 17:15</td>\n",
       "      <td>1/6/2016 17:19</td>\n",
       "      <td>Business</td>\n",
       "      <td>West Palm Beach</td>\n",
       "      <td>West Palm Beach</td>\n",
       "      <td>5.1</td>\n",
       "      <td>Meal/Entertain</td>\n",
       "    </tr>\n",
       "    <tr>\n",
       "      <th>5</th>\n",
       "      <td>1/6/2016 17:30</td>\n",
       "      <td>1/6/2016 17:35</td>\n",
       "      <td>Business</td>\n",
       "      <td>West Palm Beach</td>\n",
       "      <td>Palm Beach</td>\n",
       "      <td>5.1</td>\n",
       "      <td>Meeting</td>\n",
       "    </tr>\n",
       "    <tr>\n",
       "      <th>6</th>\n",
       "      <td>1/7/2016 13:27</td>\n",
       "      <td>1/7/2016 13:33</td>\n",
       "      <td>Business</td>\n",
       "      <td>Cary</td>\n",
       "      <td>Cary</td>\n",
       "      <td>5.1</td>\n",
       "      <td>Meeting</td>\n",
       "    </tr>\n",
       "    <tr>\n",
       "      <th>7</th>\n",
       "      <td>1/10/2016 8:05</td>\n",
       "      <td>1/10/2016 8:25</td>\n",
       "      <td>Business</td>\n",
       "      <td>Cary</td>\n",
       "      <td>Morrisville</td>\n",
       "      <td>5.1</td>\n",
       "      <td>Meeting</td>\n",
       "    </tr>\n",
       "    <tr>\n",
       "      <th>8</th>\n",
       "      <td>1/10/2016 12:17</td>\n",
       "      <td>1/10/2016 12:44</td>\n",
       "      <td>Business</td>\n",
       "      <td>Jamaica</td>\n",
       "      <td>New York</td>\n",
       "      <td>5.1</td>\n",
       "      <td>Customer Visit</td>\n",
       "    </tr>\n",
       "    <tr>\n",
       "      <th>9</th>\n",
       "      <td>1/10/2016 15:08</td>\n",
       "      <td>1/10/2016 15:51</td>\n",
       "      <td>Business</td>\n",
       "      <td>New York</td>\n",
       "      <td>Queens</td>\n",
       "      <td>5.1</td>\n",
       "      <td>Meeting</td>\n",
       "    </tr>\n",
       "  </tbody>\n",
       "</table>\n",
       "</div>"
      ],
      "text/plain": [
       "        START_DATE         END_DATE  CATEGORY            START  \\\n",
       "0   1/1/2016 21:11   1/1/2016 21:17  Business      Fort Pierce   \n",
       "1   1/2/2016 20:25   1/2/2016 20:38  Business      Fort Pierce   \n",
       "2   1/5/2016 17:31   1/5/2016 17:45  Business      Fort Pierce   \n",
       "3   1/6/2016 14:42   1/6/2016 15:49  Business      Fort Pierce   \n",
       "4   1/6/2016 17:15   1/6/2016 17:19  Business  West Palm Beach   \n",
       "5   1/6/2016 17:30   1/6/2016 17:35  Business  West Palm Beach   \n",
       "6   1/7/2016 13:27   1/7/2016 13:33  Business             Cary   \n",
       "7   1/10/2016 8:05   1/10/2016 8:25  Business             Cary   \n",
       "8  1/10/2016 12:17  1/10/2016 12:44  Business          Jamaica   \n",
       "9  1/10/2016 15:08  1/10/2016 15:51  Business         New York   \n",
       "\n",
       "              STOP  MILES          PURPOSE  \n",
       "0      Fort Pierce    5.1   Meal/Entertain  \n",
       "1      Fort Pierce    5.1  Errand/Supplies  \n",
       "2      Fort Pierce    5.1          Meeting  \n",
       "3  West Palm Beach    5.1   Customer Visit  \n",
       "4  West Palm Beach    5.1   Meal/Entertain  \n",
       "5       Palm Beach    5.1          Meeting  \n",
       "6             Cary    5.1          Meeting  \n",
       "7      Morrisville    5.1          Meeting  \n",
       "8         New York    5.1   Customer Visit  \n",
       "9           Queens    5.1          Meeting  "
      ]
     },
     "execution_count": 59,
     "metadata": {},
     "output_type": "execute_result"
    }
   ],
   "source": [
    "df.head(10)"
   ]
  },
  {
   "cell_type": "code",
   "execution_count": 92,
   "id": "21b3487a-8124-4623-a552-16cbc29f4778",
   "metadata": {},
   "outputs": [
    {
     "data": {
      "text/html": [
       "<div>\n",
       "<style scoped>\n",
       "    .dataframe tbody tr th:only-of-type {\n",
       "        vertical-align: middle;\n",
       "    }\n",
       "\n",
       "    .dataframe tbody tr th {\n",
       "        vertical-align: top;\n",
       "    }\n",
       "\n",
       "    .dataframe thead th {\n",
       "        text-align: right;\n",
       "    }\n",
       "</style>\n",
       "<table border=\"1\" class=\"dataframe\">\n",
       "  <thead>\n",
       "    <tr style=\"text-align: right;\">\n",
       "      <th></th>\n",
       "      <th>START_DATE</th>\n",
       "      <th>END_DATE</th>\n",
       "      <th>CATEGORY</th>\n",
       "      <th>START</th>\n",
       "      <th>STOP</th>\n",
       "      <th>MILES</th>\n",
       "      <th>PURPOSE</th>\n",
       "    </tr>\n",
       "  </thead>\n",
       "  <tbody>\n",
       "    <tr>\n",
       "      <th>0</th>\n",
       "      <td>1/1/2016 21:11</td>\n",
       "      <td>1/1/2016 21:17</td>\n",
       "      <td>Business</td>\n",
       "      <td>Fort Pierce</td>\n",
       "      <td>Fort Pierce</td>\n",
       "      <td>5.0</td>\n",
       "      <td>Meal/Entertain</td>\n",
       "    </tr>\n",
       "    <tr>\n",
       "      <th>1</th>\n",
       "      <td>1/2/2016 20:25</td>\n",
       "      <td>1/2/2016 20:38</td>\n",
       "      <td>Business</td>\n",
       "      <td>Fort Pierce</td>\n",
       "      <td>Fort Pierce</td>\n",
       "      <td>4.8</td>\n",
       "      <td>Errand/Supplies</td>\n",
       "    </tr>\n",
       "    <tr>\n",
       "      <th>2</th>\n",
       "      <td>1/5/2016 17:31</td>\n",
       "      <td>1/5/2016 17:45</td>\n",
       "      <td>Business</td>\n",
       "      <td>Fort Pierce</td>\n",
       "      <td>Fort Pierce</td>\n",
       "      <td>4.7</td>\n",
       "      <td>Meeting</td>\n",
       "    </tr>\n",
       "    <tr>\n",
       "      <th>3</th>\n",
       "      <td>1/6/2016 14:42</td>\n",
       "      <td>1/6/2016 15:49</td>\n",
       "      <td>Business</td>\n",
       "      <td>Fort Pierce</td>\n",
       "      <td>West Palm Beach</td>\n",
       "      <td>63.7</td>\n",
       "      <td>Customer Visit</td>\n",
       "    </tr>\n",
       "    <tr>\n",
       "      <th>4</th>\n",
       "      <td>1/6/2016 17:15</td>\n",
       "      <td>1/6/2016 17:19</td>\n",
       "      <td>Business</td>\n",
       "      <td>West Palm Beach</td>\n",
       "      <td>West Palm Beach</td>\n",
       "      <td>4.3</td>\n",
       "      <td>Meal/Entertain</td>\n",
       "    </tr>\n",
       "    <tr>\n",
       "      <th>5</th>\n",
       "      <td>1/6/2016 17:30</td>\n",
       "      <td>1/6/2016 17:35</td>\n",
       "      <td>Business</td>\n",
       "      <td>West Palm Beach</td>\n",
       "      <td>Palm Beach</td>\n",
       "      <td>7.1</td>\n",
       "      <td>Meeting</td>\n",
       "    </tr>\n",
       "    <tr>\n",
       "      <th>6</th>\n",
       "      <td>1/7/2016 13:27</td>\n",
       "      <td>1/7/2016 13:33</td>\n",
       "      <td>Business</td>\n",
       "      <td>Cary</td>\n",
       "      <td>Cary</td>\n",
       "      <td>0.8</td>\n",
       "      <td>Meeting</td>\n",
       "    </tr>\n",
       "    <tr>\n",
       "      <th>7</th>\n",
       "      <td>1/10/2016 8:05</td>\n",
       "      <td>1/10/2016 8:25</td>\n",
       "      <td>Business</td>\n",
       "      <td>Cary</td>\n",
       "      <td>Morrisville</td>\n",
       "      <td>8.3</td>\n",
       "      <td>Meeting</td>\n",
       "    </tr>\n",
       "    <tr>\n",
       "      <th>8</th>\n",
       "      <td>1/10/2016 12:17</td>\n",
       "      <td>1/10/2016 12:44</td>\n",
       "      <td>Business</td>\n",
       "      <td>Jamaica</td>\n",
       "      <td>New York</td>\n",
       "      <td>16.5</td>\n",
       "      <td>Customer Visit</td>\n",
       "    </tr>\n",
       "    <tr>\n",
       "      <th>9</th>\n",
       "      <td>1/10/2016 15:08</td>\n",
       "      <td>1/10/2016 15:51</td>\n",
       "      <td>Business</td>\n",
       "      <td>New York</td>\n",
       "      <td>Queens</td>\n",
       "      <td>10.8</td>\n",
       "      <td>Meeting</td>\n",
       "    </tr>\n",
       "    <tr>\n",
       "      <th>10</th>\n",
       "      <td>1/10/2016 18:18</td>\n",
       "      <td>1/10/2016 18:53</td>\n",
       "      <td>Business</td>\n",
       "      <td>Elmhurst</td>\n",
       "      <td>New York</td>\n",
       "      <td>7.5</td>\n",
       "      <td>Meeting</td>\n",
       "    </tr>\n",
       "    <tr>\n",
       "      <th>11</th>\n",
       "      <td>1/10/2016 19:12</td>\n",
       "      <td>1/10/2016 19:32</td>\n",
       "      <td>Business</td>\n",
       "      <td>Midtown</td>\n",
       "      <td>East Harlem</td>\n",
       "      <td>6.2</td>\n",
       "      <td>Meeting</td>\n",
       "    </tr>\n",
       "    <tr>\n",
       "      <th>12</th>\n",
       "      <td>1/11/2016 8:55</td>\n",
       "      <td>1/11/2016 9:21</td>\n",
       "      <td>Business</td>\n",
       "      <td>East Harlem</td>\n",
       "      <td>NoMad</td>\n",
       "      <td>6.4</td>\n",
       "      <td>Temporary Site</td>\n",
       "    </tr>\n",
       "    <tr>\n",
       "      <th>13</th>\n",
       "      <td>1/11/2016 11:56</td>\n",
       "      <td>1/11/2016 12:03</td>\n",
       "      <td>Business</td>\n",
       "      <td>Flatiron District</td>\n",
       "      <td>Midtown</td>\n",
       "      <td>1.6</td>\n",
       "      <td>Errand/Supplies</td>\n",
       "    </tr>\n",
       "    <tr>\n",
       "      <th>14</th>\n",
       "      <td>1/11/2016 13:32</td>\n",
       "      <td>1/11/2016 13:46</td>\n",
       "      <td>Business</td>\n",
       "      <td>Midtown</td>\n",
       "      <td>Midtown East</td>\n",
       "      <td>1.7</td>\n",
       "      <td>Meal/Entertain</td>\n",
       "    </tr>\n",
       "    <tr>\n",
       "      <th>15</th>\n",
       "      <td>1/11/2016 14:30</td>\n",
       "      <td>1/11/2016 14:43</td>\n",
       "      <td>Business</td>\n",
       "      <td>Midtown East</td>\n",
       "      <td>Midtown</td>\n",
       "      <td>1.9</td>\n",
       "      <td>Meal/Entertain</td>\n",
       "    </tr>\n",
       "    <tr>\n",
       "      <th>16</th>\n",
       "      <td>1/12/2016 12:33</td>\n",
       "      <td>1/12/2016 12:49</td>\n",
       "      <td>Business</td>\n",
       "      <td>Midtown</td>\n",
       "      <td>Hudson Square</td>\n",
       "      <td>1.9</td>\n",
       "      <td>Meal/Entertain</td>\n",
       "    </tr>\n",
       "    <tr>\n",
       "      <th>17</th>\n",
       "      <td>1/12/2016 12:53</td>\n",
       "      <td>1/12/2016 13:09</td>\n",
       "      <td>Business</td>\n",
       "      <td>Hudson Square</td>\n",
       "      <td>Lower Manhattan</td>\n",
       "      <td>4.0</td>\n",
       "      <td>Meal/Entertain</td>\n",
       "    </tr>\n",
       "    <tr>\n",
       "      <th>18</th>\n",
       "      <td>1/12/2016 14:42</td>\n",
       "      <td>1/12/2016 14:56</td>\n",
       "      <td>Business</td>\n",
       "      <td>Lower Manhattan</td>\n",
       "      <td>Hudson Square</td>\n",
       "      <td>1.8</td>\n",
       "      <td>Errand/Supplies</td>\n",
       "    </tr>\n",
       "    <tr>\n",
       "      <th>19</th>\n",
       "      <td>1/12/2016 15:13</td>\n",
       "      <td>1/12/2016 15:28</td>\n",
       "      <td>Business</td>\n",
       "      <td>Hudson Square</td>\n",
       "      <td>Hell's Kitchen</td>\n",
       "      <td>2.4</td>\n",
       "      <td>Customer Visit</td>\n",
       "    </tr>\n",
       "  </tbody>\n",
       "</table>\n",
       "</div>"
      ],
      "text/plain": [
       "         START_DATE         END_DATE  CATEGORY              START  \\\n",
       "0    1/1/2016 21:11   1/1/2016 21:17  Business        Fort Pierce   \n",
       "1    1/2/2016 20:25   1/2/2016 20:38  Business        Fort Pierce   \n",
       "2    1/5/2016 17:31   1/5/2016 17:45  Business        Fort Pierce   \n",
       "3    1/6/2016 14:42   1/6/2016 15:49  Business        Fort Pierce   \n",
       "4    1/6/2016 17:15   1/6/2016 17:19  Business    West Palm Beach   \n",
       "5    1/6/2016 17:30   1/6/2016 17:35  Business    West Palm Beach   \n",
       "6    1/7/2016 13:27   1/7/2016 13:33  Business               Cary   \n",
       "7    1/10/2016 8:05   1/10/2016 8:25  Business               Cary   \n",
       "8   1/10/2016 12:17  1/10/2016 12:44  Business            Jamaica   \n",
       "9   1/10/2016 15:08  1/10/2016 15:51  Business           New York   \n",
       "10  1/10/2016 18:18  1/10/2016 18:53  Business           Elmhurst   \n",
       "11  1/10/2016 19:12  1/10/2016 19:32  Business            Midtown   \n",
       "12   1/11/2016 8:55   1/11/2016 9:21  Business        East Harlem   \n",
       "13  1/11/2016 11:56  1/11/2016 12:03  Business  Flatiron District   \n",
       "14  1/11/2016 13:32  1/11/2016 13:46  Business            Midtown   \n",
       "15  1/11/2016 14:30  1/11/2016 14:43  Business       Midtown East   \n",
       "16  1/12/2016 12:33  1/12/2016 12:49  Business            Midtown   \n",
       "17  1/12/2016 12:53  1/12/2016 13:09  Business      Hudson Square   \n",
       "18  1/12/2016 14:42  1/12/2016 14:56  Business    Lower Manhattan   \n",
       "19  1/12/2016 15:13  1/12/2016 15:28  Business      Hudson Square   \n",
       "\n",
       "               STOP  MILES          PURPOSE  \n",
       "0       Fort Pierce    5.0   Meal/Entertain  \n",
       "1       Fort Pierce    4.8  Errand/Supplies  \n",
       "2       Fort Pierce    4.7          Meeting  \n",
       "3   West Palm Beach   63.7   Customer Visit  \n",
       "4   West Palm Beach    4.3   Meal/Entertain  \n",
       "5        Palm Beach    7.1          Meeting  \n",
       "6              Cary    0.8          Meeting  \n",
       "7       Morrisville    8.3          Meeting  \n",
       "8          New York   16.5   Customer Visit  \n",
       "9            Queens   10.8          Meeting  \n",
       "10         New York    7.5          Meeting  \n",
       "11      East Harlem    6.2          Meeting  \n",
       "12            NoMad    6.4   Temporary Site  \n",
       "13          Midtown    1.6  Errand/Supplies  \n",
       "14     Midtown East    1.7   Meal/Entertain  \n",
       "15          Midtown    1.9   Meal/Entertain  \n",
       "16    Hudson Square    1.9   Meal/Entertain  \n",
       "17  Lower Manhattan    4.0   Meal/Entertain  \n",
       "18    Hudson Square    1.8  Errand/Supplies  \n",
       "19   Hell's Kitchen    2.4   Customer Visit  "
      ]
     },
     "execution_count": 92,
     "metadata": {},
     "output_type": "execute_result"
    }
   ],
   "source": [
    "df.head(20)"
   ]
  }
 ],
 "metadata": {
  "kernelspec": {
   "display_name": "Python 3 (ipykernel)",
   "language": "python",
   "name": "python3"
  },
  "language_info": {
   "codemirror_mode": {
    "name": "ipython",
    "version": 3
   },
   "file_extension": ".py",
   "mimetype": "text/x-python",
   "name": "python",
   "nbconvert_exporter": "python",
   "pygments_lexer": "ipython3",
   "version": "3.12.0"
  }
 },
 "nbformat": 4,
 "nbformat_minor": 5
}
